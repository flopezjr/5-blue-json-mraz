{
 "cells": [
  {
   "cell_type": "code",
   "execution_count": 1,
   "metadata": {},
   "outputs": [],
   "source": [
    "import pandas as pd\n",
    "import requests\n",
    "from config import api_key\n",
    "import json"
   ]
  },
  {
   "cell_type": "code",
   "execution_count": 2,
   "metadata": {},
   "outputs": [],
   "source": [
    "dem_candidate_df=pd.read_csv(\"2020_dem_candidate.csv\")"
   ]
  },
  {
   "cell_type": "code",
   "execution_count": 3,
   "metadata": {},
   "outputs": [],
   "source": [
    "url=\"https://api.open.fec.gov/v1/schedules/schedule_a/by_state/by_candidate/\""
   ]
  },
  {
   "cell_type": "code",
   "execution_count": 4,
   "metadata": {},
   "outputs": [
    {
     "data": {
      "text/html": [
       "<div>\n",
       "<style scoped>\n",
       "    .dataframe tbody tr th:only-of-type {\n",
       "        vertical-align: middle;\n",
       "    }\n",
       "\n",
       "    .dataframe tbody tr th {\n",
       "        vertical-align: top;\n",
       "    }\n",
       "\n",
       "    .dataframe thead th {\n",
       "        text-align: right;\n",
       "    }\n",
       "</style>\n",
       "<table border=\"1\" class=\"dataframe\">\n",
       "  <thead>\n",
       "    <tr style=\"text-align: right;\">\n",
       "      <th></th>\n",
       "      <th>Unnamed: 0</th>\n",
       "      <th>name</th>\n",
       "      <th>candidate_id</th>\n",
       "      <th>state</th>\n",
       "      <th>party</th>\n",
       "      <th>incumbent_challenge_full</th>\n",
       "      <th>office_full</th>\n",
       "      <th>cycles</th>\n",
       "      <th>election_years</th>\n",
       "      <th>party.1</th>\n",
       "      <th>candidate_status</th>\n",
       "    </tr>\n",
       "  </thead>\n",
       "  <tbody>\n",
       "    <tr>\n",
       "      <th>0</th>\n",
       "      <td>0</td>\n",
       "      <td>ADAMS, ELLIOTT</td>\n",
       "      <td>S0KS00190</td>\n",
       "      <td>KS</td>\n",
       "      <td>DEM</td>\n",
       "      <td>Open seat</td>\n",
       "      <td>Senate</td>\n",
       "      <td>[2018, 2020]</td>\n",
       "      <td>[2020]</td>\n",
       "      <td>DEM</td>\n",
       "      <td>N</td>\n",
       "    </tr>\n",
       "  </tbody>\n",
       "</table>\n",
       "</div>"
      ],
      "text/plain": [
       "   Unnamed: 0            name candidate_id state party  \\\n",
       "0           0  ADAMS, ELLIOTT    S0KS00190    KS   DEM   \n",
       "\n",
       "  incumbent_challenge_full office_full        cycles election_years party.1  \\\n",
       "0                Open seat      Senate  [2018, 2020]         [2020]     DEM   \n",
       "\n",
       "  candidate_status  \n",
       "0                N  "
      ]
     },
     "execution_count": 4,
     "metadata": {},
     "output_type": "execute_result"
    }
   ],
   "source": [
    "dem_candidate_df.head(1)"
   ]
  },
  {
   "cell_type": "code",
   "execution_count": 5,
   "metadata": {},
   "outputs": [
    {
     "data": {
      "text/plain": [
       "['S0KS00190',\n",
       " 'S0SD00070',\n",
       " 'S0KY00313',\n",
       " 'S0CO00500',\n",
       " 'S0MT00116',\n",
       " 'S8MS00295',\n",
       " 'S0TX00324',\n",
       " 'S0WY00152',\n",
       " 'S0OK00339',\n",
       " 'S0CO00427',\n",
       " 'S8MS00220',\n",
       " 'S0KS00323',\n",
       " 'S4NJ00185',\n",
       " 'S0KS00224',\n",
       " 'S0CO00658',\n",
       " 'S0CA00496',\n",
       " 'S0TN00342',\n",
       " 'S0CO00492',\n",
       " 'S0OK00321',\n",
       " 'S0KY00321',\n",
       " 'S0OK00370',\n",
       " 'S0MT00173',\n",
       " 'S0CO00526',\n",
       " 'S0MT00090',\n",
       " 'S0DE00092',\n",
       " 'S0TX00332',\n",
       " 'S0KY00271',\n",
       " 'S0NC00202',\n",
       " 'S2TN00082',\n",
       " 'S0GA00500',\n",
       " 'S6IL00151',\n",
       " 'S0TX00258',\n",
       " 'S6LA00342',\n",
       " 'S8MS00287',\n",
       " 'S0TX00274',\n",
       " 'S8MN00438',\n",
       " 'S0IA00200',\n",
       " 'S0NC00285',\n",
       " 'S0TX00381',\n",
       " 'S0CO00435',\n",
       " 'S0ME00111',\n",
       " 'S0IA00168',\n",
       " 'S0IA00176',\n",
       " 'S0KS00232',\n",
       " 'S0NJ00233',\n",
       " 'S0ID00149',\n",
       " 'S0SC00289',\n",
       " 'S0SD00096',\n",
       " 'S0TX00233',\n",
       " 'S0TX00290',\n",
       " 'S0CO00575',\n",
       " 'S0KY00511',\n",
       " 'S0KY00487',\n",
       " 'S6TX00206',\n",
       " 'S0GA00591',\n",
       " 'S8NE00216',\n",
       " 'S0GA00484',\n",
       " 'S0CO00468',\n",
       " 'S0AL00156',\n",
       " 'S0KY00370',\n",
       " 'S0IL00576',\n",
       " 'S0ID00180',\n",
       " 'S0AZ00350',\n",
       " 'H2MA04073',\n",
       " 'S0MA00208',\n",
       " 'S0ME00087',\n",
       " 'S0TN00268',\n",
       " 'S0GA00674',\n",
       " 'S0ME00145',\n",
       " 'S0CO00419',\n",
       " 'S0GA00468',\n",
       " 'S0MA00166',\n",
       " 'S0ME00053',\n",
       " 'S0TX00308',\n",
       " 'S0WY00129',\n",
       " 'S0NM00058',\n",
       " 'S0NE00106',\n",
       " 'S8TN00311',\n",
       " 'S0CO00534',\n",
       " 'S0AR00200',\n",
       " 'S0NC00327',\n",
       " 'S4MA00028',\n",
       " 'S8NE00141',\n",
       " 'S0IA00150',\n",
       " 'S0GA00666',\n",
       " 'S0KY00339',\n",
       " 'S8OR00207',\n",
       " 'S0MT00108',\n",
       " 'S0MT00132',\n",
       " 'S0TX00225',\n",
       " 'S0WV00249',\n",
       " 'S8GA00180',\n",
       " 'S0MA00182',\n",
       " 'S4MI00355',\n",
       " 'S0NE00072',\n",
       " 'S0TN00284',\n",
       " 'S0LA00311',\n",
       " 'S0CO00443',\n",
       " 'S0KS00307',\n",
       " 'S6RI00163',\n",
       " 'S0GA00401',\n",
       " 'S0WV00256',\n",
       " 'S0OK00354',\n",
       " 'S0CO00286',\n",
       " 'S0KY00388',\n",
       " 'S0DE00175',\n",
       " 'S0NH00219',\n",
       " 'S0NE00098',\n",
       " 'S0GA00435',\n",
       " 'S0NC00343',\n",
       " 'S8MN00578',\n",
       " 'S0CO00484',\n",
       " 'S0IL00493',\n",
       " 'S0WV00215',\n",
       " 'S0ME00103',\n",
       " 'S0NC00368',\n",
       " 'S0GA00583',\n",
       " 'S0GA00419',\n",
       " 'S0KS00265',\n",
       " 'S0SC00305']"
      ]
     },
     "execution_count": 5,
     "metadata": {},
     "output_type": "execute_result"
    }
   ],
   "source": [
    "can_id=dem_candidate_df.candidate_id\n",
    "can_id.to_list()"
   ]
  },
  {
   "cell_type": "code",
   "execution_count": 6,
   "metadata": {},
   "outputs": [],
   "source": [
    "def extract_data(results):\n",
    "    return {\n",
    "    \"candidate_id\":results[\"candidate_id\"],\n",
    "    \"state\": results[\"state\"],\n",
    "    \"donation_count\": results[\"count\"],\n",
    "    \"total_raised\": results[\"total\"],\n",
    "    \"cycle\": results[\"cycle\"]\n",
    "    }\n",
    "    "
   ]
  },
  {
   "cell_type": "code",
   "execution_count": 7,
   "metadata": {},
   "outputs": [],
   "source": [
    "dem_finance_3 = []\n",
    "# pages=range(1,3)\n",
    "\n",
    "for candidate in can_id:\n",
    "#     for page in range(1,3):\n",
    "\n",
    "    data = requests.get(url=url, params={\n",
    "        \"election_full\": False,\n",
    "        \"sort_hide_null\": False,\n",
    "        \"cycle\": 2020,\n",
    "        \"api_key\": api_key,\n",
    "        \"sort_nulls_last\": False,\n",
    "        \"sort_null_only\": False,\n",
    "        \"per_page\":  20,\n",
    "        \"candidate_id\": candidate,\n",
    "        \"page\": 3\n",
    "        \n",
    "    }).json()['results']\n",
    "    \n",
    "    for result in data:\n",
    "        dem_finances_3 = extract_data(result)\n",
    "    \n",
    "        dem_finance_3.append(dem_finances_3)\n"
   ]
  },
  {
   "cell_type": "code",
   "execution_count": 8,
   "metadata": {},
   "outputs": [
    {
     "data": {
      "text/plain": [
       "(338, 5)"
      ]
     },
     "execution_count": 8,
     "metadata": {},
     "output_type": "execute_result"
    }
   ],
   "source": [
    "dem_finances_3=pd.DataFrame(dem_finance_3)\n",
    "dem_finances_3.shape"
   ]
  },
  {
   "cell_type": "code",
   "execution_count": 9,
   "metadata": {},
   "outputs": [],
   "source": [
    "dem_finance_2 = []\n",
    "# pages=range(1,3)\n",
    "\n",
    "for candidate in can_id:\n",
    "#     for page in range(1,3):\n",
    "\n",
    "    data = requests.get(url=url, params={\n",
    "        \"election_full\": False,\n",
    "        \"sort_hide_null\": False,\n",
    "        \"cycle\": 2020,\n",
    "        \"api_key\": api_key,\n",
    "        \"sort_nulls_last\": False,\n",
    "        \"sort_null_only\": False,\n",
    "        \"per_page\":  20,\n",
    "        \"candidate_id\": candidate,\n",
    "        \"page\": 2\n",
    "        \n",
    "    }).json()['results']\n",
    "    \n",
    "    for result in data:\n",
    "        dem_finances_2 = extract_data(result)\n",
    "    \n",
    "        dem_finance_2.append(dem_finances_2)"
   ]
  },
  {
   "cell_type": "code",
   "execution_count": 10,
   "metadata": {},
   "outputs": [
    {
     "data": {
      "text/plain": [
       "(773, 5)"
      ]
     },
     "execution_count": 10,
     "metadata": {},
     "output_type": "execute_result"
    }
   ],
   "source": [
    "dem_finances_2=pd.DataFrame(dem_finance_2)\n",
    "dem_finances_2.shape"
   ]
  },
  {
   "cell_type": "code",
   "execution_count": 11,
   "metadata": {},
   "outputs": [],
   "source": [
    "dem_finance_1 = []\n",
    "# pages=range(1,3)\n",
    "\n",
    "for candidate in can_id:\n",
    "#     for page in range(1,3):\n",
    "\n",
    "    data = requests.get(url=url, params={\n",
    "        \"election_full\": False,\n",
    "        \"sort_hide_null\": False,\n",
    "        \"cycle\": 2020,\n",
    "        \"api_key\": api_key,\n",
    "        \"sort_nulls_last\": False,\n",
    "        \"sort_null_only\": False,\n",
    "        \"per_page\":  20,\n",
    "        \"candidate_id\": candidate,\n",
    "        \"page\": 1\n",
    "        \n",
    "    }).json()['results']\n",
    "    \n",
    "    for result in data:\n",
    "        dem_finances_1 = extract_data(result)\n",
    "    \n",
    "        dem_finance_1.append(dem_finances_1)"
   ]
  },
  {
   "cell_type": "code",
   "execution_count": 12,
   "metadata": {},
   "outputs": [
    {
     "data": {
      "text/plain": [
       "(1267, 5)"
      ]
     },
     "execution_count": 12,
     "metadata": {},
     "output_type": "execute_result"
    }
   ],
   "source": [
    "dem_finances_1=pd.DataFrame(dem_finance_1)\n",
    "dem_finances_1.shape"
   ]
  },
  {
   "cell_type": "code",
   "execution_count": 13,
   "metadata": {},
   "outputs": [],
   "source": [
    "concatting=[dem_finances_1, dem_finances_2, dem_finances_3]\n",
    "new_dem_finance=pd.concat(concatting)\n",
    "new_dem_finance.to_csv(\"2020_dem_finance.csv\")"
   ]
  },
  {
   "cell_type": "code",
   "execution_count": null,
   "metadata": {},
   "outputs": [],
   "source": []
  },
  {
   "cell_type": "code",
   "execution_count": null,
   "metadata": {},
   "outputs": [],
   "source": []
  },
  {
   "cell_type": "code",
   "execution_count": null,
   "metadata": {},
   "outputs": [],
   "source": []
  }
 ],
 "metadata": {
  "environment": {
   "name": "common-cpu.m54",
   "type": "gcloud",
   "uri": "gcr.io/deeplearning-platform-release/base-cpu:m54"
  },
  "kernelspec": {
   "display_name": "Python 3",
   "language": "python",
   "name": "python3"
  },
  "language_info": {
   "codemirror_mode": {
    "name": "ipython",
    "version": 3
   },
   "file_extension": ".py",
   "mimetype": "text/x-python",
   "name": "python",
   "nbconvert_exporter": "python",
   "pygments_lexer": "ipython3",
   "version": "3.7.8"
  }
 },
 "nbformat": 4,
 "nbformat_minor": 4
}
